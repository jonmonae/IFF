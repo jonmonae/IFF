{
 "cells": [
  {
   "cell_type": "code",
   "execution_count": 2,
   "id": "4f2e8afb-6826-4ba3-85d6-31f906f8ce72",
   "metadata": {},
   "outputs": [],
   "source": [
    "import cudaq\n",
    "import dynamiqs\n",
    "import numpy"
   ]
  },
  {
   "cell_type": "code",
   "execution_count": null,
   "id": "e24fd0a0-1d75-459a-9b2a-45a01a1598f6",
   "metadata": {},
   "outputs": [],
   "source": []
  }
 ],
 "metadata": {
  "kernelspec": {
   "display_name": "Python 3 (ipykernel)",
   "language": "python",
   "name": "python3"
  },
  "language_info": {
   "codemirror_mode": {
    "name": "ipython",
    "version": 3
   },
   "file_extension": ".py",
   "mimetype": "text/x-python",
   "name": "python",
   "nbconvert_exporter": "python",
   "pygments_lexer": "ipython3",
   "version": "3.13.7"
  }
 },
 "nbformat": 4,
 "nbformat_minor": 5
}

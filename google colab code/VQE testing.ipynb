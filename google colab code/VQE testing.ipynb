{
  "cells": [
    {
      "cell_type": "code",
      "execution_count": null,
      "metadata": {
        "collapsed": true,
        "id": "YG3c6nV0bKdX",
        "colab": {
          "base_uri": "https://localhost:8080/"
        },
        "outputId": "517e6fa0-1b77-43be-adf4-1b728c64ecc2"
      },
      "outputs": [
        {
          "output_type": "stream",
          "name": "stdout",
          "text": [
            "Collecting cudaq\n",
            "  Downloading cudaq-0.12.0.post1.tar.gz (9.2 kB)\n",
            "  Installing build dependencies ... \u001b[?25l\u001b[?25hdone\n",
            "  Getting requirements to build wheel ... \u001b[?25l\u001b[?25hdone\n",
            "  Preparing metadata (pyproject.toml) ... \u001b[?25l\u001b[?25hdone\n",
            "Collecting cuda-quantum-cu12==0.12.0.post1 (from cudaq)\n",
            "  Downloading cuda_quantum_cu12-0.12.0.post1-cp312-cp312-manylinux_2_27_x86_64.manylinux_2_28_x86_64.whl.metadata (9.1 kB)\n",
            "Collecting astpretty~=3.0 (from cuda-quantum-cu12==0.12.0.post1->cudaq)\n",
            "  Downloading astpretty-3.0.0-py2.py3-none-any.whl.metadata (5.5 kB)\n",
            "Collecting cuquantum-cu12>=25.06 (from cuda-quantum-cu12==0.12.0.post1->cudaq)\n",
            "  Downloading cuquantum_cu12-25.9.0-py3-none-manylinux2014_x86_64.whl.metadata (3.1 kB)\n",
            "Requirement already satisfied: numpy>=1.24 in /usr/local/lib/python3.12/dist-packages (from cuda-quantum-cu12==0.12.0.post1->cudaq) (2.0.2)\n",
            "Requirement already satisfied: scipy>=1.10.1 in /usr/local/lib/python3.12/dist-packages (from cuda-quantum-cu12==0.12.0.post1->cudaq) (1.16.1)\n",
            "Requirement already satisfied: requests>=2.31 in /usr/local/lib/python3.12/dist-packages (from cuda-quantum-cu12==0.12.0.post1->cudaq) (2.32.4)\n",
            "Requirement already satisfied: nvidia-cublas-cu12~=12.0 in /usr/local/lib/python3.12/dist-packages (from cuda-quantum-cu12==0.12.0.post1->cudaq) (12.6.4.1)\n",
            "Requirement already satisfied: nvidia-curand-cu12~=10.3 in /usr/local/lib/python3.12/dist-packages (from cuda-quantum-cu12==0.12.0.post1->cudaq) (10.3.7.77)\n",
            "Requirement already satisfied: nvidia-cusparse-cu12~=12.5 in /usr/local/lib/python3.12/dist-packages (from cuda-quantum-cu12==0.12.0.post1->cudaq) (12.5.4.2)\n",
            "Requirement already satisfied: nvidia-cuda-runtime-cu12~=12.0 in /usr/local/lib/python3.12/dist-packages (from cuda-quantum-cu12==0.12.0.post1->cudaq) (12.6.77)\n",
            "Requirement already satisfied: nvidia-cusolver-cu12~=11.4 in /usr/local/lib/python3.12/dist-packages (from cuda-quantum-cu12==0.12.0.post1->cudaq) (11.7.1.2)\n",
            "Requirement already satisfied: nvidia-cuda-nvrtc-cu12~=12.0 in /usr/local/lib/python3.12/dist-packages (from cuda-quantum-cu12==0.12.0.post1->cudaq) (12.6.77)\n",
            "Requirement already satisfied: cupy-cuda12x<=13.4.1,>=13.0.0 in /usr/local/lib/python3.12/dist-packages (from cuda-quantum-cu12==0.12.0.post1->cudaq) (13.3.0)\n",
            "Requirement already satisfied: fastrlock>=0.5 in /usr/local/lib/python3.12/dist-packages (from cupy-cuda12x<=13.4.1,>=13.0.0->cuda-quantum-cu12==0.12.0.post1->cudaq) (0.8.3)\n",
            "Collecting custatevec-cu12==1.10.0 (from cuquantum-cu12>=25.06->cuda-quantum-cu12==0.12.0.post1->cudaq)\n",
            "  Downloading custatevec_cu12-1.10.0-py3-none-manylinux2014_x86_64.whl.metadata (2.4 kB)\n",
            "Collecting cutensornet-cu12==2.9.0 (from cuquantum-cu12>=25.06->cuda-quantum-cu12==0.12.0.post1->cudaq)\n",
            "  Downloading cutensornet_cu12-2.9.0-py3-none-manylinux2014_x86_64.whl.metadata (2.4 kB)\n",
            "Collecting cudensitymat-cu12==0.3.0 (from cuquantum-cu12>=25.06->cuda-quantum-cu12==0.12.0.post1->cudaq)\n",
            "  Downloading cudensitymat_cu12-0.3.0-py3-none-manylinux2014_x86_64.whl.metadata (2.5 kB)\n",
            "Collecting cutensor-cu12<3,>=2.3.1 (from cudensitymat-cu12==0.3.0->cuquantum-cu12>=25.06->cuda-quantum-cu12==0.12.0.post1->cudaq)\n",
            "  Downloading cutensor_cu12-2.3.1-py3-none-manylinux2014_x86_64.whl.metadata (2.2 kB)\n",
            "Requirement already satisfied: nvidia-nvjitlink-cu12 in /usr/local/lib/python3.12/dist-packages (from nvidia-cusolver-cu12~=11.4->cuda-quantum-cu12==0.12.0.post1->cudaq) (12.6.85)\n",
            "Requirement already satisfied: charset_normalizer<4,>=2 in /usr/local/lib/python3.12/dist-packages (from requests>=2.31->cuda-quantum-cu12==0.12.0.post1->cudaq) (3.4.3)\n",
            "Requirement already satisfied: idna<4,>=2.5 in /usr/local/lib/python3.12/dist-packages (from requests>=2.31->cuda-quantum-cu12==0.12.0.post1->cudaq) (3.10)\n",
            "Requirement already satisfied: urllib3<3,>=1.21.1 in /usr/local/lib/python3.12/dist-packages (from requests>=2.31->cuda-quantum-cu12==0.12.0.post1->cudaq) (2.5.0)\n",
            "Requirement already satisfied: certifi>=2017.4.17 in /usr/local/lib/python3.12/dist-packages (from requests>=2.31->cuda-quantum-cu12==0.12.0.post1->cudaq) (2025.8.3)\n",
            "Downloading cuda_quantum_cu12-0.12.0.post1-cp312-cp312-manylinux_2_27_x86_64.manylinux_2_28_x86_64.whl (118.5 MB)\n",
            "\u001b[2K   \u001b[90m━━━━━━━━━━━━━━━━━━━━━━━━━━━━━━━━━━━━━━━━\u001b[0m \u001b[32m118.5/118.5 MB\u001b[0m \u001b[31m6.8 MB/s\u001b[0m eta \u001b[36m0:00:00\u001b[0m\n",
            "\u001b[?25hDownloading astpretty-3.0.0-py2.py3-none-any.whl (4.9 kB)\n",
            "Downloading cuquantum_cu12-25.9.0-py3-none-manylinux2014_x86_64.whl (7.2 kB)\n",
            "Downloading cudensitymat_cu12-0.3.0-py3-none-manylinux2014_x86_64.whl (6.9 MB)\n",
            "\u001b[2K   \u001b[90m━━━━━━━━━━━━━━━━━━━━━━━━━━━━━━━━━━━━━━━━\u001b[0m \u001b[32m6.9/6.9 MB\u001b[0m \u001b[31m64.8 MB/s\u001b[0m eta \u001b[36m0:00:00\u001b[0m\n",
            "\u001b[?25hDownloading custatevec_cu12-1.10.0-py3-none-manylinux2014_x86_64.whl (72.3 MB)\n",
            "\u001b[2K   \u001b[90m━━━━━━━━━━━━━━━━━━━━━━━━━━━━━━━━━━━━━━━━\u001b[0m \u001b[32m72.3/72.3 MB\u001b[0m \u001b[31m8.7 MB/s\u001b[0m eta \u001b[36m0:00:00\u001b[0m\n",
            "\u001b[?25hDownloading cutensornet_cu12-2.9.0-py3-none-manylinux2014_x86_64.whl (3.1 MB)\n",
            "\u001b[2K   \u001b[90m━━━━━━━━━━━━━━━━━━━━━━━━━━━━━━━━━━━━━━━━\u001b[0m \u001b[32m3.1/3.1 MB\u001b[0m \u001b[31m71.1 MB/s\u001b[0m eta \u001b[36m0:00:00\u001b[0m\n",
            "\u001b[?25hDownloading cutensor_cu12-2.3.1-py3-none-manylinux2014_x86_64.whl (237.1 MB)\n",
            "\u001b[2K   \u001b[90m━━━━━━━━━━━━━━━━━━━━━━━━━━━━━━━━━━━━━━━━\u001b[0m \u001b[32m237.1/237.1 MB\u001b[0m \u001b[31m5.3 MB/s\u001b[0m eta \u001b[36m0:00:00\u001b[0m\n",
            "\u001b[?25hBuilding wheels for collected packages: cudaq\n",
            "  Building wheel for cudaq (pyproject.toml) ... \u001b[?25l\u001b[?25hdone\n",
            "  Created wheel for cudaq: filename=cudaq-0.12.0.post1-py3-none-any.whl size=7140 sha256=ed2a5ad400240f3b38e027c93dcf36fda5f266021e7283a6613a917a6580d31e\n",
            "  Stored in directory: /root/.cache/pip/wheels/28/46/73/06c85cbac5fac9d1aef5f8ffd2e96d1acda5bd101fdce3c0b9\n",
            "Successfully built cudaq\n",
            "Installing collected packages: cutensor-cu12, custatevec-cu12, cutensornet-cu12, astpretty, cudensitymat-cu12, cuquantum-cu12, cuda-quantum-cu12, cudaq\n",
            "Successfully installed astpretty-3.0.0 cuda-quantum-cu12-0.12.0.post1 cudaq-0.12.0.post1 cudensitymat-cu12-0.3.0 cuquantum-cu12-25.9.0 custatevec-cu12-1.10.0 cutensor-cu12-2.3.1 cutensornet-cu12-2.9.0\n",
            "Collecting cudaq-solvers\n",
            "  Downloading cudaq_solvers-0.4.0-cp312-cp312-manylinux_2_27_x86_64.manylinux_2_28_x86_64.whl.metadata (3.1 kB)\n",
            "Requirement already satisfied: cuda-quantum-cu12>=0.12 in /usr/local/lib/python3.12/dist-packages (from cudaq-solvers) (0.12.0.post1)\n",
            "Requirement already satisfied: fastapi in /usr/local/lib/python3.12/dist-packages (from cudaq-solvers) (0.116.1)\n",
            "Requirement already satisfied: networkx in /usr/local/lib/python3.12/dist-packages (from cudaq-solvers) (3.5)\n",
            "Collecting pyscf (from cudaq-solvers)\n",
            "  Downloading pyscf-2.10.0-py3-none-manylinux_2_17_x86_64.manylinux2014_x86_64.whl.metadata (6.4 kB)\n",
            "Requirement already satisfied: scipy in /usr/local/lib/python3.12/dist-packages (from cudaq-solvers) (1.16.1)\n",
            "Requirement already satisfied: uvicorn in /usr/local/lib/python3.12/dist-packages (from cudaq-solvers) (0.35.0)\n",
            "Requirement already satisfied: astpretty~=3.0 in /usr/local/lib/python3.12/dist-packages (from cuda-quantum-cu12>=0.12->cudaq-solvers) (3.0.0)\n",
            "Requirement already satisfied: cuquantum-cu12>=25.06 in /usr/local/lib/python3.12/dist-packages (from cuda-quantum-cu12>=0.12->cudaq-solvers) (25.9.0)\n",
            "Requirement already satisfied: numpy>=1.24 in /usr/local/lib/python3.12/dist-packages (from cuda-quantum-cu12>=0.12->cudaq-solvers) (2.0.2)\n",
            "Requirement already satisfied: requests>=2.31 in /usr/local/lib/python3.12/dist-packages (from cuda-quantum-cu12>=0.12->cudaq-solvers) (2.32.4)\n",
            "Requirement already satisfied: nvidia-cublas-cu12~=12.0 in /usr/local/lib/python3.12/dist-packages (from cuda-quantum-cu12>=0.12->cudaq-solvers) (12.6.4.1)\n",
            "Requirement already satisfied: nvidia-curand-cu12~=10.3 in /usr/local/lib/python3.12/dist-packages (from cuda-quantum-cu12>=0.12->cudaq-solvers) (10.3.7.77)\n",
            "Requirement already satisfied: nvidia-cusparse-cu12~=12.5 in /usr/local/lib/python3.12/dist-packages (from cuda-quantum-cu12>=0.12->cudaq-solvers) (12.5.4.2)\n",
            "Requirement already satisfied: nvidia-cuda-runtime-cu12~=12.0 in /usr/local/lib/python3.12/dist-packages (from cuda-quantum-cu12>=0.12->cudaq-solvers) (12.6.77)\n",
            "Requirement already satisfied: nvidia-cusolver-cu12~=11.4 in /usr/local/lib/python3.12/dist-packages (from cuda-quantum-cu12>=0.12->cudaq-solvers) (11.7.1.2)\n",
            "Requirement already satisfied: nvidia-cuda-nvrtc-cu12~=12.0 in /usr/local/lib/python3.12/dist-packages (from cuda-quantum-cu12>=0.12->cudaq-solvers) (12.6.77)\n",
            "Requirement already satisfied: cupy-cuda12x<=13.4.1,>=13.0.0 in /usr/local/lib/python3.12/dist-packages (from cuda-quantum-cu12>=0.12->cudaq-solvers) (13.3.0)\n",
            "Requirement already satisfied: starlette<0.48.0,>=0.40.0 in /usr/local/lib/python3.12/dist-packages (from fastapi->cudaq-solvers) (0.47.3)\n",
            "Requirement already satisfied: pydantic!=1.8,!=1.8.1,!=2.0.0,!=2.0.1,!=2.1.0,<3.0.0,>=1.7.4 in /usr/local/lib/python3.12/dist-packages (from fastapi->cudaq-solvers) (2.11.7)\n",
            "Requirement already satisfied: typing-extensions>=4.8.0 in /usr/local/lib/python3.12/dist-packages (from fastapi->cudaq-solvers) (4.15.0)\n",
            "Requirement already satisfied: h5py>=2.7 in /usr/local/lib/python3.12/dist-packages (from pyscf->cudaq-solvers) (3.14.0)\n",
            "Requirement already satisfied: setuptools in /usr/local/lib/python3.12/dist-packages (from pyscf->cudaq-solvers) (75.2.0)\n",
            "Requirement already satisfied: click>=7.0 in /usr/local/lib/python3.12/dist-packages (from uvicorn->cudaq-solvers) (8.2.1)\n",
            "Requirement already satisfied: h11>=0.8 in /usr/local/lib/python3.12/dist-packages (from uvicorn->cudaq-solvers) (0.16.0)\n",
            "Requirement already satisfied: fastrlock>=0.5 in /usr/local/lib/python3.12/dist-packages (from cupy-cuda12x<=13.4.1,>=13.0.0->cuda-quantum-cu12>=0.12->cudaq-solvers) (0.8.3)\n",
            "Requirement already satisfied: custatevec-cu12==1.10.0 in /usr/local/lib/python3.12/dist-packages (from cuquantum-cu12>=25.06->cuda-quantum-cu12>=0.12->cudaq-solvers) (1.10.0)\n",
            "Requirement already satisfied: cutensornet-cu12==2.9.0 in /usr/local/lib/python3.12/dist-packages (from cuquantum-cu12>=25.06->cuda-quantum-cu12>=0.12->cudaq-solvers) (2.9.0)\n",
            "Requirement already satisfied: cudensitymat-cu12==0.3.0 in /usr/local/lib/python3.12/dist-packages (from cuquantum-cu12>=25.06->cuda-quantum-cu12>=0.12->cudaq-solvers) (0.3.0)\n",
            "Requirement already satisfied: cutensor-cu12<3,>=2.3.1 in /usr/local/lib/python3.12/dist-packages (from cudensitymat-cu12==0.3.0->cuquantum-cu12>=25.06->cuda-quantum-cu12>=0.12->cudaq-solvers) (2.3.1)\n",
            "Requirement already satisfied: nvidia-nvjitlink-cu12 in /usr/local/lib/python3.12/dist-packages (from nvidia-cusolver-cu12~=11.4->cuda-quantum-cu12>=0.12->cudaq-solvers) (12.6.85)\n",
            "Requirement already satisfied: annotated-types>=0.6.0 in /usr/local/lib/python3.12/dist-packages (from pydantic!=1.8,!=1.8.1,!=2.0.0,!=2.0.1,!=2.1.0,<3.0.0,>=1.7.4->fastapi->cudaq-solvers) (0.7.0)\n",
            "Requirement already satisfied: pydantic-core==2.33.2 in /usr/local/lib/python3.12/dist-packages (from pydantic!=1.8,!=1.8.1,!=2.0.0,!=2.0.1,!=2.1.0,<3.0.0,>=1.7.4->fastapi->cudaq-solvers) (2.33.2)\n",
            "Requirement already satisfied: typing-inspection>=0.4.0 in /usr/local/lib/python3.12/dist-packages (from pydantic!=1.8,!=1.8.1,!=2.0.0,!=2.0.1,!=2.1.0,<3.0.0,>=1.7.4->fastapi->cudaq-solvers) (0.4.1)\n",
            "Requirement already satisfied: charset_normalizer<4,>=2 in /usr/local/lib/python3.12/dist-packages (from requests>=2.31->cuda-quantum-cu12>=0.12->cudaq-solvers) (3.4.3)\n",
            "Requirement already satisfied: idna<4,>=2.5 in /usr/local/lib/python3.12/dist-packages (from requests>=2.31->cuda-quantum-cu12>=0.12->cudaq-solvers) (3.10)\n",
            "Requirement already satisfied: urllib3<3,>=1.21.1 in /usr/local/lib/python3.12/dist-packages (from requests>=2.31->cuda-quantum-cu12>=0.12->cudaq-solvers) (2.5.0)\n",
            "Requirement already satisfied: certifi>=2017.4.17 in /usr/local/lib/python3.12/dist-packages (from requests>=2.31->cuda-quantum-cu12>=0.12->cudaq-solvers) (2025.8.3)\n",
            "Requirement already satisfied: anyio<5,>=3.6.2 in /usr/local/lib/python3.12/dist-packages (from starlette<0.48.0,>=0.40.0->fastapi->cudaq-solvers) (4.10.0)\n",
            "Requirement already satisfied: sniffio>=1.1 in /usr/local/lib/python3.12/dist-packages (from anyio<5,>=3.6.2->starlette<0.48.0,>=0.40.0->fastapi->cudaq-solvers) (1.3.1)\n",
            "Downloading cudaq_solvers-0.4.0-cp312-cp312-manylinux_2_27_x86_64.manylinux_2_28_x86_64.whl (1.4 MB)\n",
            "\u001b[2K   \u001b[90m━━━━━━━━━━━━━━━━━━━━━━━━━━━━━━━━━━━━━━━━\u001b[0m \u001b[32m1.4/1.4 MB\u001b[0m \u001b[31m11.5 MB/s\u001b[0m eta \u001b[36m0:00:00\u001b[0m\n",
            "\u001b[?25hDownloading pyscf-2.10.0-py3-none-manylinux_2_17_x86_64.manylinux2014_x86_64.whl (51.2 MB)\n",
            "\u001b[2K   \u001b[90m━━━━━━━━━━━━━━━━━━━━━━━━━━━━━━━━━━━━━━━━\u001b[0m \u001b[32m51.2/51.2 MB\u001b[0m \u001b[31m12.6 MB/s\u001b[0m eta \u001b[36m0:00:00\u001b[0m\n",
            "\u001b[?25hInstalling collected packages: pyscf, cudaq-solvers\n",
            "Successfully installed cudaq-solvers-0.4.0 pyscf-2.10.0\n",
            "Collecting dynamiqs\n",
            "  Downloading dynamiqs-0.3.3-py3-none-any.whl.metadata (14 kB)\n",
            "Collecting qutip>=4.7.5 (from dynamiqs)\n",
            "  Downloading qutip-5.2.1-cp312-cp312-manylinux_2_17_x86_64.manylinux2014_x86_64.whl.metadata (9.5 kB)\n",
            "Requirement already satisfied: scipy in /usr/local/lib/python3.12/dist-packages (from dynamiqs) (1.16.1)\n",
            "Requirement already satisfied: numpy in /usr/local/lib/python3.12/dist-packages (from dynamiqs) (2.0.2)\n",
            "Requirement already satisfied: matplotlib in /usr/local/lib/python3.12/dist-packages (from dynamiqs) (3.10.0)\n",
            "Requirement already satisfied: tqdm in /usr/local/lib/python3.12/dist-packages (from dynamiqs) (4.67.1)\n",
            "Requirement already satisfied: jax>=0.4.36 in /usr/local/lib/python3.12/dist-packages (from dynamiqs) (0.5.3)\n",
            "Collecting jaxtyping (from dynamiqs)\n",
            "  Downloading jaxtyping-0.3.2-py3-none-any.whl.metadata (7.0 kB)\n",
            "Collecting diffrax>=0.6.1 (from dynamiqs)\n",
            "  Downloading diffrax-0.7.0-py3-none-any.whl.metadata (17 kB)\n",
            "Collecting equinox (from dynamiqs)\n",
            "  Downloading equinox-0.13.0-py3-none-any.whl.metadata (18 kB)\n",
            "Collecting optimistix (from dynamiqs)\n",
            "  Downloading optimistix-0.0.10-py3-none-any.whl.metadata (17 kB)\n",
            "Requirement already satisfied: pillow in /usr/local/lib/python3.12/dist-packages (from dynamiqs) (11.3.0)\n",
            "Collecting cmasher>=1.8.0 (from dynamiqs)\n",
            "  Downloading cmasher-1.9.2-py3-none-any.whl.metadata (7.9 kB)\n",
            "Requirement already satisfied: ipython in /usr/local/lib/python3.12/dist-packages (from dynamiqs) (7.34.0)\n",
            "Collecting colorspacious>=1.1.0 (from cmasher>=1.8.0->dynamiqs)\n",
            "  Downloading colorspacious-1.1.2-py2.py3-none-any.whl.metadata (3.6 kB)\n",
            "Collecting lineax>=0.0.5 (from diffrax>=0.6.1->dynamiqs)\n",
            "  Downloading lineax-0.0.8-py3-none-any.whl.metadata (18 kB)\n",
            "Requirement already satisfied: typing-extensions>=4.5.0 in /usr/local/lib/python3.12/dist-packages (from diffrax>=0.6.1->dynamiqs) (4.15.0)\n",
            "Collecting wadler-lindig>=0.1.1 (from diffrax>=0.6.1->dynamiqs)\n",
            "  Downloading wadler_lindig-0.1.7-py3-none-any.whl.metadata (17 kB)\n",
            "Requirement already satisfied: jaxlib<=0.5.3,>=0.5.3 in /usr/local/lib/python3.12/dist-packages (from jax>=0.4.36->dynamiqs) (0.5.3)\n",
            "Requirement already satisfied: ml_dtypes>=0.4.0 in /usr/local/lib/python3.12/dist-packages (from jax>=0.4.36->dynamiqs) (0.5.3)\n",
            "Requirement already satisfied: opt_einsum in /usr/local/lib/python3.12/dist-packages (from jax>=0.4.36->dynamiqs) (3.4.0)\n",
            "Requirement already satisfied: contourpy>=1.0.1 in /usr/local/lib/python3.12/dist-packages (from matplotlib->dynamiqs) (1.3.3)\n",
            "Requirement already satisfied: cycler>=0.10 in /usr/local/lib/python3.12/dist-packages (from matplotlib->dynamiqs) (0.12.1)\n",
            "Requirement already satisfied: fonttools>=4.22.0 in /usr/local/lib/python3.12/dist-packages (from matplotlib->dynamiqs) (4.59.2)\n",
            "Requirement already satisfied: kiwisolver>=1.3.1 in /usr/local/lib/python3.12/dist-packages (from matplotlib->dynamiqs) (1.4.9)\n",
            "Requirement already satisfied: packaging>=20.0 in /usr/local/lib/python3.12/dist-packages (from matplotlib->dynamiqs) (25.0)\n",
            "Requirement already satisfied: pyparsing>=2.3.1 in /usr/local/lib/python3.12/dist-packages (from matplotlib->dynamiqs) (3.2.3)\n",
            "Requirement already satisfied: python-dateutil>=2.7 in /usr/local/lib/python3.12/dist-packages (from matplotlib->dynamiqs) (2.9.0.post0)\n",
            "Requirement already satisfied: setuptools>=18.5 in /usr/local/lib/python3.12/dist-packages (from ipython->dynamiqs) (75.2.0)\n",
            "Collecting jedi>=0.16 (from ipython->dynamiqs)\n",
            "  Downloading jedi-0.19.2-py2.py3-none-any.whl.metadata (22 kB)\n",
            "Requirement already satisfied: decorator in /usr/local/lib/python3.12/dist-packages (from ipython->dynamiqs) (4.4.2)\n",
            "Requirement already satisfied: pickleshare in /usr/local/lib/python3.12/dist-packages (from ipython->dynamiqs) (0.7.5)\n",
            "Requirement already satisfied: traitlets>=4.2 in /usr/local/lib/python3.12/dist-packages (from ipython->dynamiqs) (5.7.1)\n",
            "Requirement already satisfied: prompt-toolkit!=3.0.0,!=3.0.1,<3.1.0,>=2.0.0 in /usr/local/lib/python3.12/dist-packages (from ipython->dynamiqs) (3.0.52)\n",
            "Requirement already satisfied: pygments in /usr/local/lib/python3.12/dist-packages (from ipython->dynamiqs) (2.19.2)\n",
            "Requirement already satisfied: backcall in /usr/local/lib/python3.12/dist-packages (from ipython->dynamiqs) (0.2.0)\n",
            "Requirement already satisfied: matplotlib-inline in /usr/local/lib/python3.12/dist-packages (from ipython->dynamiqs) (0.1.7)\n",
            "Requirement already satisfied: pexpect>4.3 in /usr/local/lib/python3.12/dist-packages (from ipython->dynamiqs) (4.9.0)\n",
            "Requirement already satisfied: parso<0.9.0,>=0.8.4 in /usr/local/lib/python3.12/dist-packages (from jedi>=0.16->ipython->dynamiqs) (0.8.5)\n",
            "Requirement already satisfied: ptyprocess>=0.5 in /usr/local/lib/python3.12/dist-packages (from pexpect>4.3->ipython->dynamiqs) (0.7.0)\n",
            "Requirement already satisfied: wcwidth in /usr/local/lib/python3.12/dist-packages (from prompt-toolkit!=3.0.0,!=3.0.1,<3.1.0,>=2.0.0->ipython->dynamiqs) (0.2.13)\n",
            "Requirement already satisfied: six>=1.5 in /usr/local/lib/python3.12/dist-packages (from python-dateutil>=2.7->matplotlib->dynamiqs) (1.17.0)\n",
            "Downloading dynamiqs-0.3.3-py3-none-any.whl (153 kB)\n",
            "\u001b[2K   \u001b[90m━━━━━━━━━━━━━━━━━━━━━━━━━━━━━━━━━━━━━━━━\u001b[0m \u001b[32m153.1/153.1 kB\u001b[0m \u001b[31m12.4 MB/s\u001b[0m eta \u001b[36m0:00:00\u001b[0m\n",
            "\u001b[?25hDownloading cmasher-1.9.2-py3-none-any.whl (506 kB)\n",
            "\u001b[2K   \u001b[90m━━━━━━━━━━━━━━━━━━━━━━━━━━━━━━━━━━━━━━━━\u001b[0m \u001b[32m506.5/506.5 kB\u001b[0m \u001b[31m20.4 MB/s\u001b[0m eta \u001b[36m0:00:00\u001b[0m\n",
            "\u001b[?25hDownloading diffrax-0.7.0-py3-none-any.whl (193 kB)\n",
            "\u001b[2K   \u001b[90m━━━━━━━━━━━━━━━━━━━━━━━━━━━━━━━━━━━━━━━━\u001b[0m \u001b[32m193.2/193.2 kB\u001b[0m \u001b[31m19.4 MB/s\u001b[0m eta \u001b[36m0:00:00\u001b[0m\n",
            "\u001b[?25hDownloading equinox-0.13.0-py3-none-any.whl (177 kB)\n",
            "\u001b[2K   \u001b[90m━━━━━━━━━━━━━━━━━━━━━━━━━━━━━━━━━━━━━━━━\u001b[0m \u001b[32m177.7/177.7 kB\u001b[0m \u001b[31m18.6 MB/s\u001b[0m eta \u001b[36m0:00:00\u001b[0m\n",
            "\u001b[?25hDownloading jaxtyping-0.3.2-py3-none-any.whl (55 kB)\n",
            "\u001b[2K   \u001b[90m━━━━━━━━━━━━━━━━━━━━━━━━━━━━━━━━━━━━━━━━\u001b[0m \u001b[32m55.4/55.4 kB\u001b[0m \u001b[31m4.5 MB/s\u001b[0m eta \u001b[36m0:00:00\u001b[0m\n",
            "\u001b[?25hDownloading optimistix-0.0.10-py3-none-any.whl (84 kB)\n",
            "\u001b[2K   \u001b[90m━━━━━━━━━━━━━━━━━━━━━━━━━━━━━━━━━━━━━━━━\u001b[0m \u001b[32m84.3/84.3 kB\u001b[0m \u001b[31m8.1 MB/s\u001b[0m eta \u001b[36m0:00:00\u001b[0m\n",
            "\u001b[?25hDownloading qutip-5.2.1-cp312-cp312-manylinux_2_17_x86_64.manylinux2014_x86_64.whl (31.8 MB)\n",
            "\u001b[2K   \u001b[90m━━━━━━━━━━━━━━━━━━━━━━━━━━━━━━━━━━━━━━━━\u001b[0m \u001b[32m31.8/31.8 MB\u001b[0m \u001b[31m17.7 MB/s\u001b[0m eta \u001b[36m0:00:00\u001b[0m\n",
            "\u001b[?25hDownloading colorspacious-1.1.2-py2.py3-none-any.whl (37 kB)\n",
            "Downloading jedi-0.19.2-py2.py3-none-any.whl (1.6 MB)\n",
            "\u001b[2K   \u001b[90m━━━━━━━━━━━━━━━━━━━━━━━━━━━━━━━━━━━━━━━━\u001b[0m \u001b[32m1.6/1.6 MB\u001b[0m \u001b[31m60.0 MB/s\u001b[0m eta \u001b[36m0:00:00\u001b[0m\n",
            "\u001b[?25hDownloading lineax-0.0.8-py3-none-any.whl (68 kB)\n",
            "\u001b[2K   \u001b[90m━━━━━━━━━━━━━━━━━━━━━━━━━━━━━━━━━━━━━━━━\u001b[0m \u001b[32m68.0/68.0 kB\u001b[0m \u001b[31m6.0 MB/s\u001b[0m eta \u001b[36m0:00:00\u001b[0m\n",
            "\u001b[?25hDownloading wadler_lindig-0.1.7-py3-none-any.whl (20 kB)\n",
            "Installing collected packages: wadler-lindig, jedi, colorspacious, qutip, jaxtyping, cmasher, equinox, lineax, optimistix, diffrax, dynamiqs\n",
            "Successfully installed cmasher-1.9.2 colorspacious-1.1.2 diffrax-0.7.0 dynamiqs-0.3.3 equinox-0.13.0 jaxtyping-0.3.2 jedi-0.19.2 lineax-0.0.8 optimistix-0.0.10 qutip-5.2.1 wadler-lindig-0.1.7\n"
          ]
        }
      ],
      "source": [
        "try:\n",
        "  import cudaq\n",
        "  import cudaq_solvers as solvers\n",
        "  import dynamiqs as dq\n",
        "except(ImportError):\n",
        "  %pip install cudaq\n",
        "  %pip install cudaq-solvers\n",
        "  %pip install dynamiqs\n",
        "\n",
        "  import cudaq\n",
        "  import cudaq_solvers as solvers\n",
        "  import dynamiqs as dq\n",
        "\n",
        "import numpy as np\n",
        "from scipy.optimize import minimize\n",
        "import jax.numpy as jnp"
      ]
    },
    {
      "cell_type": "markdown",
      "source": [
        "Attempting to convert 2x2 bosonic annihilation/creation operators to linear combination of pauli matrices using the following formula:\n",
        "\n",
        "𝐚 = $\\frac{1}{2}$\\($\\sigma_x+i\\sigma_y$\\)\n",
        "\n",
        "𝐚† = $\\frac{1}{2}$\\($\\sigma_x-i\\sigma_y$\\)\n",
        "\n"
      ],
      "metadata": {
        "id": "byiLMMKNym73"
      }
    },
    {
      "cell_type": "code",
      "execution_count": null,
      "metadata": {
        "id": "VGrWHXXjNami"
      },
      "outputs": [],
      "source": [
        "def sig_min(q):\n",
        "  return 0.5 * (cudaq.spin.x(q) - 1j * cudaq.spin.y(q))\n",
        "def sig_plus(q):\n",
        "  return 0.5 * (cudaq.spin.x(q) + 1j * cudaq.spin.y(q))\n"
      ]
    },
    {
      "cell_type": "markdown",
      "source": [
        "Using the previously defined nnihilation and creation operators to model the cat qubit Hamiltonian\n",
        "\n",
        "The Hamiltonian of the system is given by\n",
        "$$\n",
        "\\begin{aligned}\n",
        "H &= H_{\\mathrm{2ph}} + H_d,\\qquad \\mathrm{with}\\\\\n",
        "H_{\\mathrm{2ph}} &= g_2 {a^\\dagger}^2 b + g_2^* a^2 b^\\dagger,\\\\\n",
        "\\hat{H}_d &= \\epsilon_d^* b + \\epsilon_d b^\\dagger.\n",
        "\\end{aligned}\n",
        "$$\n",
        "\n",
        "Here, $\\hat{H}_{\\mathrm{2ph}}$ is the two-photon exchane Hamiltonian and $\\hat{H}_d$ is the buffer drive Hamiltonian.g"
      ],
      "metadata": {
        "id": "tFrmIzIP6bE1"
      }
    },
    {
      "cell_type": "markdown",
      "source": [
        "Here we are using a two qubit system, one qubit for the memory mode, and one for the buffer mode. Therefore, we are defining 𝐚 as the annihilation operator operating on qubit 0, and 𝐛 as the annihilation acting on qubit 1"
      ],
      "metadata": {
        "id": "n9Y5sNKt8tEI"
      }
    },
    {
      "cell_type": "code",
      "execution_count": null,
      "metadata": {
        "id": "57sQa8CPN1E4"
      },
      "outputs": [],
      "source": [
        "def create_H(g2=1.0, eps_d=-4):\n",
        "\n",
        "  a = sig_plus(0)\n",
        "  a_dag = sig_min(0)\n",
        "\n",
        "  b = sig_plus(1)\n",
        "  b_dag = sig_min(1)\n",
        "\n",
        "  H_2ph = g2*(a*a*b_dag + a_dag*a_dag*b)\n",
        "\n",
        "  H_d = eps_d * (b+b_dag)\n",
        "\n",
        "  H = H_2ph + H_d\n",
        "\n",
        "  return H\n",
        "\n",
        "def creat_H_matrix(g2=1,eps_d=-4,na=2,nb=2):\n",
        "\n",
        "  a,b = dq.destroy(na,nb)\n",
        "\n",
        "  H_2ph = g2*(a@a@b.dag() + a.dag()@a.dag()@b)\n",
        "  H_d = eps_d * (b+b.dag())\n",
        "  H = H_2ph + H_d\n",
        "\n",
        "  return H\n"
      ]
    },
    {
      "cell_type": "code",
      "execution_count": null,
      "metadata": {
        "id": "LNHFaNDQJu5b"
      },
      "outputs": [],
      "source": []
    },
    {
      "cell_type": "code",
      "execution_count": null,
      "metadata": {
        "id": "0trjWRE6N-NA"
      },
      "outputs": [],
      "source": [
        "\n",
        "\n",
        "def ansatz(thetas: list[float], n: int) -> cudaq.Kernel:\n",
        "    # Create a CUDA-Q parameterized kernel\n",
        "    paramterized_ansatz, variational_angles = cudaq.make_kernel(list)\n",
        "    qubits = paramterized_ansatz.qalloc(n)\n",
        "\n",
        "    # Using |+> as the initial state:\n",
        "    paramterized_ansatz.h(qubits[0])\n",
        "    paramterized_ansatz.cx(qubits[0], qubits[1])\n",
        "\n",
        "    paramterized_ansatz.rx(variational_angles[0], qubits[0])\n",
        "    paramterized_ansatz.cx(qubits[0], qubits[1])\n",
        "    paramterized_ansatz.rz(variational_angles[1], qubits[1])\n",
        "    paramterized_ansatz.cx(qubits[0], qubits[1])\n",
        "    return paramterized_ansatz"
      ]
    },
    {
      "cell_type": "code",
      "execution_count": null,
      "metadata": {
        "id": "oGcygkMABjb0"
      },
      "outputs": [],
      "source": [
        "def run_logical_vqe(cudaq_hamiltonian: cudaq.SpinOperator) -> tuple[float, list[float]]:\n",
        "    # Set seed for easier reproduction\n",
        "    rng = np.random.default_rng(42)\n",
        "\n",
        "    # Initial angles for the optimizer\n",
        "    init_angles = rng.random(2) * 1e-1\n",
        "\n",
        "    # Obtain CUDA-Q Ansatz\n",
        "    num_qubits = cudaq_hamiltonian.get_qubit_count()\n",
        "    variational_kernel = ansatz(num_qubits)\n",
        "\n",
        "    # Perform VQE optimization\n",
        "    energy, params, _ = solvers.vqe(\n",
        "        variational_kernel,\n",
        "        cudaq_hamiltonian,\n",
        "        init_angles,\n",
        "        optimizer=minimize,\n",
        "        method=\"SLSQP\",\n",
        "        tol=1e-10,\n",
        "    )\n",
        "    return energy, params"
      ]
    },
    {
      "cell_type": "code",
      "execution_count": null,
      "metadata": {
        "id": "AemVPEuhZ-1f"
      },
      "outputs": [],
      "source": [
        "def run_vqe_shutter(cudaq_hamiltonian: cudaq.SpinOperator) -> tuple[float, list[float]]:\n",
        "    # Set seed for easier reproduction\n",
        "    rng = np.random.default_rng(42)\n",
        "\n",
        "    # Initial angles for the optimizer\n",
        "    init_angles = rng.random(2) * 1e-1\n",
        "\n",
        "    # Obtain CUDA-Q Ansatz\n",
        "    num_qubits = cudaq_hamiltonian.get_qubit_count()\n",
        "    variational_kernel = ansatz(num_qubits)\n",
        "\n",
        "    energies =[]\n",
        "    thetas = []\n",
        "\n",
        "\n",
        "    def iteration_callback(out):\n",
        "\n",
        "      print(out)\n",
        "\n",
        "      fxk = out[0]\n",
        "      xk = out[1]\n",
        "\n",
        "      energies.append(fxk)\n",
        "      thetas.append(xk)\n",
        "      #print(f\"Iteration: {len(energies)} | theta = {xk} | energy = {fxk}\")\n",
        "\n",
        "    def callback(xk):\n",
        "      exp_val = cudaq.observe(ansatz, H, xk[0]).expectation()\n",
        "      print(f\"Energy at iteration: {exp_val}\")\n",
        "\n",
        "    # Perform VQE optimization\n",
        "    energy, params, _ = solvers.vqe(\n",
        "      variational_kernel,\n",
        "      cudaq_hamiltonian,\n",
        "      init_angles,\n",
        "      optimizer=minimize,\n",
        "      method=\"SLSQP\",\n",
        "      tol=1e-10,\n",
        "      callback = callback\n",
        "    )\n",
        "    return energy, params, energies, thetas"
      ]
    },
    {
      "cell_type": "code",
      "source": [
        "import cudaq\n",
        "from cudaq import spin\n",
        "import cudaq_solvers as solvers\n",
        "\n",
        "\n",
        "\n",
        "rng = np.random.default_rng(42)\n",
        "init_angles = rng.random(2) * 1e-1\n",
        "\n",
        "\n",
        "\n",
        "# Define quantum kernel (ansatz)\n",
        "@cudaq.kernel\n",
        "def ansatz(thetas: list[float]):\n",
        "    q = cudaq.qvector(2)\n",
        "    h(q[0])\n",
        "    x.ctrl(q[0], q[1])\n",
        "\n",
        "    rx(thetas[0],q[0])\n",
        "    x.ctrl(q[0], q[1])\n",
        "    rz(thetas[1], q[1])\n",
        "    x.ctrl(q[0], q[1])\n",
        "\n",
        "def callback(xk):\n",
        "    exp_val = cudaq.observe(ansatz, H, xk).expectation()\n",
        "    print(f\"Energy at iteration: {exp_val}\")\n",
        "\n",
        "# Define Hamiltonian\n",
        "H = create_H()\n",
        "\n",
        "from scipy.optimize import minimize\n",
        "\n",
        "# Run VQE with defaults (cobyla optimizer)\n",
        "energy, parameters, data = solvers.vqe(\n",
        "    lambda thetas: ansatz(thetas),\n",
        "    H,\n",
        "    initial_parameters=init_angles,\n",
        "    optimizer=minimize,\n",
        "    callback=callback,\n",
        "    method='L-BFGS-B',\n",
        "    verbose=True,\n",
        "    jac='3-point',\n",
        "    tol=1e-4,\n",
        "    options={'disp': True}\n",
        ")\n",
        "print(f\"Ground state energy: {energy}\")"
      ],
      "metadata": {
        "colab": {
          "base_uri": "https://localhost:8080/"
        },
        "id": "wkEXZlnnat_L",
        "outputId": "5e0d7f26-42de-4ad5-9085-7f8f371a3521"
      },
      "execution_count": null,
      "outputs": [
        {
          "output_type": "stream",
          "name": "stdout",
          "text": [
            "Energy at iteration: -3.4233804571903477\n",
            "Energy at iteration: -3.4342689813212823\n",
            "Energy at iteration: -3.6783547167130792\n",
            "Energy at iteration: -3.9873663557515275\n",
            "Energy at iteration: -3.999975219584801\n",
            "Energy at iteration: -3.99999999981006\n",
            "Ground state energy: -3.9999999999997464\n"
          ]
        },
        {
          "output_type": "stream",
          "name": "stderr",
          "text": [
            "/tmp/ipython-input-690960108.py:34: DeprecationWarning: scipy.optimize: The `disp` and `iprint` options of the L-BFGS-B solver are deprecated and will be removed in SciPy 1.18.0.\n",
            "  energy, parameters, data = solvers.vqe(\n"
          ]
        }
      ]
    },
    {
      "cell_type": "markdown",
      "metadata": {
        "id": "hGB_JkeKfhjC"
      },
      "source": []
    },
    {
      "cell_type": "code",
      "source": [
        "# Using L-BFGS-B optimizer with parameter-shift gradients\n",
        "energy, parameters, data = solvers.vqe(\n",
        "    lambda thetas: ansatz(thetas),\n",
        "    H,\n",
        "    initial_parameters=[0.3,0.6],\n",
        "    optimizer='lbfgs',\n",
        "    gradient='parameter_shift',\n",
        "    verbose=True\n",
        ")\n",
        "\n",
        "# Using SciPy optimizer directly\n",
        "from scipy.optimize import minimize\n",
        "\n",
        "\n",
        "\n",
        "energy, parameters, data = solvers.vqe(\n",
        "    lambda thetas: ansatz(thetas),\n",
        "    H,\n",
        "    initial_parameters=[0.0,0.6],\n",
        "    optimizer=minimize,\n",
        "    callback=callback,\n",
        "    method='L-BFGS-B',\n",
        "    jac='3-point',\n",
        "    tol=1e-4,\n",
        "    options={'disp': True}\n",
        ")"
      ],
      "metadata": {
        "id": "cymA_bawX5X2"
      },
      "execution_count": null,
      "outputs": []
    },
    {
      "cell_type": "code",
      "execution_count": null,
      "metadata": {
        "id": "qHUINd-QCxlo"
      },
      "outputs": [],
      "source": [
        "cudaq.register_operation(\"meas_id\", np.identity(2))"
      ]
    },
    {
      "cell_type": "code",
      "execution_count": null,
      "metadata": {
        "id": "vHKnTvdWC4Sw"
      },
      "outputs": [],
      "source": [
        "def aim_logical_circuit(\n",
        "    angles: list[float], basis: str, *, ignore_meas_id: bool = False\n",
        ") -> cudaq.Kernel:\n",
        "    kernel = cudaq.make_kernel()\n",
        "    qubits = kernel.qalloc(6)\n",
        "\n",
        "    kernel.for_loop(start=0, stop=3, function=lambda idx: kernel.h(qubits[idx]))\n",
        "    kernel.cx(qubits[1], qubits[4])\n",
        "    kernel.cx(qubits[2], qubits[3])\n",
        "    kernel.cx(qubits[0], qubits[1])\n",
        "    kernel.cx(qubits[0], qubits[3])\n",
        "\n",
        "    # Rx teleportation\n",
        "    kernel.rx(angles[0], qubits[0])\n",
        "\n",
        "    kernel.cx(qubits[0], qubits[1])\n",
        "    kernel.cx(qubits[0], qubits[3])\n",
        "    kernel.h(qubits[0])\n",
        "\n",
        "    if basis == \"z_basis\":\n",
        "        if not ignore_meas_id:\n",
        "            kernel.for_loop(\n",
        "                start=0,\n",
        "                stop=5,\n",
        "                function=lambda idx: getattr(kernel, \"meas_id\")(qubits[idx]),  # noqa: B009\n",
        "            )\n",
        "        kernel.mz(qubits)\n",
        "    elif basis == \"x_basis\":\n",
        "        # ZZ rotation and teleportation\n",
        "        kernel.cx(qubits[3], qubits[5])\n",
        "        kernel.cx(qubits[2], qubits[5])\n",
        "        kernel.rz(angles[1], qubits[5])\n",
        "        kernel.cx(qubits[1], qubits[5])\n",
        "        kernel.cx(qubits[4], qubits[5])\n",
        "        kernel.for_loop(start=1, stop=5, function=lambda idx: kernel.h(qubits[idx]))\n",
        "        if not ignore_meas_id:\n",
        "            kernel.for_loop(\n",
        "                start=0,\n",
        "                stop=6,\n",
        "                function=lambda idx: getattr(kernel, \"meas_id\")(qubits[idx]),  # noqa: B009\n",
        "            )\n",
        "        kernel.mz(qubits)\n",
        "    else:\n",
        "        raise ValueError(\"Unsupported basis provided:\", basis)\n",
        "    return kernel"
      ]
    },
    {
      "cell_type": "code",
      "execution_count": null,
      "metadata": {
        "id": "bIHaFN0iD1bV"
      },
      "outputs": [],
      "source": [
        "def generate_circuit_set(ignore_meas_id: bool = False) -> object:\n",
        "\n",
        "    H = create_H()\n",
        "    energy, opt_params, energies, thetas = run_vqe_shutter(H)\n",
        "    angles = [float(angle) for angle in opt_params]\n",
        "\n",
        "    print(energy)\n",
        "\n",
        "    kernel = cudaq.make_kernel()\n",
        "    qubits = kernel.qalloc(2)\n",
        "\n",
        "    kernel.h(qubits[0])\n",
        "    kernel.cx(qubits[0], qubits[1])\n",
        "\n",
        "    kernel.rx(angles[0], qubits[0])\n",
        "    kernel.cx(qubits[0], qubits[1])\n",
        "    kernel.rz(angles[1], qubits[1])\n",
        "    kernel.cx(qubits[0], qubits[1])\n",
        "\n",
        "\n",
        "    print(cudaq.draw(kernel))\n",
        "\n",
        "\n",
        "\n",
        "\n",
        "\n",
        "\n",
        "\n",
        "\n",
        "\n",
        "    print(\"\\nFinished building optimized circuits!\")"
      ]
    },
    {
      "cell_type": "code",
      "execution_count": null,
      "metadata": {
        "colab": {
          "base_uri": "https://localhost:8080/"
        },
        "id": "ijwTjHhsc7v4",
        "outputId": "ac4f391d-dba9-4f4b-e06e-118e677d0791"
      },
      "outputs": [
        {
          "output_type": "stream",
          "name": "stderr",
          "text": [
            "/tmp/ipython-input-5598012.py:9: DeprecationWarning: use `qubit_count` instead\n",
            "  num_qubits = cudaq_hamiltonian.get_qubit_count()\n",
            "ERROR:root:Internal Python error in the inspect module.\n",
            "Below is the traceback from this internal error.\n",
            "\n",
            "ERROR:root:Internal Python error in the inspect module.\n",
            "Below is the traceback from this internal error.\n",
            "\n",
            "ERROR:root:Internal Python error in the inspect module.\n",
            "Below is the traceback from this internal error.\n",
            "\n"
          ]
        },
        {
          "output_type": "stream",
          "name": "stdout",
          "text": [
            "\u001b[1mRuntimeError: \u001b[91merror: \u001b[0m\u001b[1mInvalid runtime argument type. Argument of type <class 'int'> was provided, but list[float] was expected.\u001b[0m\n",
            "\n",
            "Offending code:\n",
            "  File \"<frozen runpy>\", line 198, in _run_module_as_main\n",
            "\n",
            "\n",
            "During handling of the above exception, another exception occurred:\n",
            "\n",
            "AttributeError: 'RuntimeError' object has no attribute '_render_traceback_'\n",
            "\n",
            "During handling of the above exception, another exception occurred:\n",
            "\n",
            "AssertionError\n",
            "RuntimeError: \u001b[91merror: \u001b[0m\u001b[1mInvalid runtime argument type. Argument of type <class 'int'> was provided, but list[float] was expected.\u001b[0m\n",
            "\n",
            "Offending code:\n",
            "  File \"<frozen runpy>\", line 198, in _run_module_as_main\n",
            "\n",
            "\n",
            "During handling of the above exception, another exception occurred:\n",
            "\n",
            "AttributeError: 'RuntimeError' object has no attribute '_render_traceback_'\n",
            "\n",
            "During handling of the above exception, another exception occurred:\n",
            "\n",
            "TypeError: object of type 'NoneType' has no len()\n",
            "\n",
            "During handling of the above exception, another exception occurred:\n",
            "\n",
            "AttributeError: 'TypeError' object has no attribute '_render_traceback_'\n",
            "\n",
            "During handling of the above exception, another exception occurred:\n",
            "\n",
            "AssertionError\n",
            "RuntimeError: \u001b[91merror: \u001b[0m\u001b[1mInvalid runtime argument type. Argument of type <class 'int'> was provided, but list[float] was expected.\u001b[0m\n",
            "\n",
            "Offending code:\n",
            "  File \"<frozen runpy>\", line 198, in _run_module_as_main\n",
            "\n",
            "\n",
            "During handling of the above exception, another exception occurred:\n",
            "\n",
            "AttributeError: 'RuntimeError' object has no attribute '_render_traceback_'\n",
            "\n",
            "During handling of the above exception, another exception occurred:\n",
            "\n",
            "TypeError: object of type 'NoneType' has no len()\n",
            "\n",
            "During handling of the above exception, another exception occurred:\n",
            "\n",
            "AttributeError: 'TypeError' object has no attribute '_render_traceback_'\n",
            "\n",
            "During handling of the above exception, another exception occurred:\n",
            "\n",
            "TypeError: object of type 'NoneType' has no len()\n",
            "\n",
            "During handling of the above exception, another exception occurred:\n",
            "\n",
            "AttributeError: 'TypeError' object has no attribute '_render_traceback_'\n",
            "\n",
            "During handling of the above exception, another exception occurred:\n",
            "\n",
            "AssertionError\n"
          ]
        }
      ],
      "source": [
        "sim_circuit_dict = generate_circuit_set()"
      ]
    },
    {
      "cell_type": "code",
      "execution_count": null,
      "metadata": {
        "id": "44Lvwcwoc8Ns"
      },
      "outputs": [],
      "source": [
        "paramterized_ansatz, variational_angles = cudaq.make_kernel(list)"
      ]
    },
    {
      "cell_type": "code",
      "source": [
        "print(paramterized_ansatz)"
      ],
      "metadata": {
        "colab": {
          "base_uri": "https://localhost:8080/"
        },
        "id": "CIBblDpTZErz",
        "outputId": "8d90b8bd-6d78-441b-cdb5-b37439f3d4d4"
      },
      "execution_count": null,
      "outputs": [
        {
          "output_type": "stream",
          "name": "stdout",
          "text": [
            "module attributes {quake.mangled_name_map = {__nvqpp__mlirgen____nvqppBuilderKernel_XB47179ITS = \"__nvqpp__mlirgen____nvqppBuilderKernel_XB47179ITS_PyKernelEntryPointRewrite\"}} {\n",
            "  func.func @__nvqpp__mlirgen____nvqppBuilderKernel_XB47179ITS(%arg0: !cc.stdvec<f64>) attributes {\"cudaq-entrypoint\", \"cudaq-kernel\"} {\n",
            "    return\n",
            "  }\n",
            "}\n",
            "\n"
          ]
        }
      ]
    },
    {
      "cell_type": "code",
      "source": [
        "print(variational_angles[7])"
      ],
      "metadata": {
        "colab": {
          "base_uri": "https://localhost:8080/"
        },
        "id": "xJ6pYiEgZG1R",
        "outputId": "b49250d6-866c-49e1-fb9b-5d78c47a6fde"
      },
      "execution_count": null,
      "outputs": [
        {
          "output_type": "stream",
          "name": "stdout",
          "text": [
            "Value(%8 = cc.load %7 : !cc.ptr<f64>)\n"
          ]
        }
      ]
    },
    {
      "cell_type": "code",
      "source": [],
      "metadata": {
        "id": "uqh7RZ8fZRoX"
      },
      "execution_count": null,
      "outputs": []
    }
  ],
  "metadata": {
    "colab": {
      "provenance": []
    },
    "kernelspec": {
      "display_name": "Python 3",
      "name": "python3"
    },
    "language_info": {
      "name": "python"
    }
  },
  "nbformat": 4,
  "nbformat_minor": 0
}